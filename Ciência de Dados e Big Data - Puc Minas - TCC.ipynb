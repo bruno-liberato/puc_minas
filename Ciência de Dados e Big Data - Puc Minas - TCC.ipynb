{
 "cells": [
  {
   "cell_type": "code",
   "execution_count": null,
   "id": "bfac3ed9",
   "metadata": {
    "ExecuteTime": {
     "end_time": "2021-10-17T13:56:34.152337Z",
     "start_time": "2021-10-17T13:56:31.019069Z"
    }
   },
   "outputs": [],
   "source": [
    "%matplotlib notebook\n",
    "%matplotlib inline\n",
    "\n",
    "import trendet\n",
    "import investpy\n",
    "import yfinance as yf\n",
    "import mplfinance as fplt\n",
    "\n",
    "import numpy as np\n",
    "import pandas as pd\n",
    "import seaborn as sns\n",
    "\n",
    "import plotly.express as px\n",
    "import plotly.graph_objs as go\n",
    "import matplotlib.pyplot as plt\n",
    "\n",
    "from datetime import datetime\n",
    "from subprocess import check_output\n",
    "\n",
    "pd.set_option('display.max_columns', None)\n",
    "pd.set_option('display.max_rows', None)\n",
    "\n",
    "import warnings\n",
    "warnings.filterwarnings('ignore')"
   ]
  },
  {
   "cell_type": "code",
   "execution_count": null,
   "id": "127716f4",
   "metadata": {
    "ExecuteTime": {
     "end_time": "2021-10-17T13:56:36.368542Z",
     "start_time": "2021-10-17T13:56:34.152337Z"
    }
   },
   "outputs": [],
   "source": [
    "# Leitura da da base de dados API\n",
    "cardano = yf.download(\"ADA-USD\", start=\"2018-01-01\", end=\"2021-10-14\", order= 'ascending', interval='1d')\n",
    "cardano.head(5)"
   ]
  },
  {
   "cell_type": "markdown",
   "id": "7d8c8a0b",
   "metadata": {},
   "source": [
    "> ### 3. Processamento/Tratamento de Dados"
   ]
  },
  {
   "cell_type": "code",
   "execution_count": null,
   "id": "20fd2006",
   "metadata": {
    "ExecuteTime": {
     "end_time": "2021-10-17T13:56:36.384464Z",
     "start_time": "2021-10-17T13:56:36.369528Z"
    }
   },
   "outputs": [],
   "source": [
    "#Percentual de duplicadas\n",
    "print('-Verificando duplicadas....: %.2f%%' % cardano.index.duplicated().sum())\n",
    "# Quantidade de Linhas\n",
    "print('-Numero de linhas ldap.....:', cardano.shape[0]) \n",
    "# Quantidade de Colunas\n",
    "print('-Numero de colunas ldap....:', cardano.shape[1])\n",
    "#Linhas e colunas\n",
    "print('-Linhas e Colunas..........:', cardano.shape ) \n",
    "#Identificar valores null no dataframe\n",
    "print('-Valores NULL..............: %.2f%% ' % cardano.isnull().sum().sum())\n"
   ]
  },
  {
   "cell_type": "code",
   "execution_count": null,
   "id": "bb8c0e07",
   "metadata": {
    "ExecuteTime": {
     "end_time": "2021-10-17T13:56:36.511336Z",
     "start_time": "2021-10-17T13:56:36.386457Z"
    }
   },
   "outputs": [],
   "source": [
    "v_mercado = pd.read_csv(\"v_mercado.csv\", delimiter=';', header=0, parse_dates=[0],\n",
    "                        index_col=0)\n",
    "v_mercado.index = pd.to_datetime(v_mercado.index)\n",
    "\n",
    "v_mercado = v_mercado.sort_values(by='Date')  # Ordenar o dados pela Data\n",
    "v_mercado.head(2)"
   ]
  },
  {
   "cell_type": "code",
   "execution_count": null,
   "id": "688c3eda",
   "metadata": {
    "ExecuteTime": {
     "end_time": "2021-10-17T13:56:36.527293Z",
     "start_time": "2021-10-17T13:56:36.512333Z"
    }
   },
   "outputs": [],
   "source": [
    "#Percentual de duplicadas\n",
    "print('-Verificando duplicadas....: %.2f%%' % v_mercado.index.duplicated().sum())\n",
    "# Quantidade de Linhas\n",
    "print('-Numero de linhas ldap.....:', v_mercado.shape[0]) \n",
    "# Quantidade de Colunas\n",
    "print('-Numero de colunas ldap....:', v_mercado.shape[1])\n",
    "#Linhas e colunas\n",
    "print('-Linhas e Colunas..........:', v_mercado.shape ) \n",
    "#Identificar valores null no dataframe\n",
    "print('-Valores NULL..............: %.2f%% ' % cardano.isnull().sum().sum())\n"
   ]
  },
  {
   "cell_type": "code",
   "execution_count": null,
   "id": "baaaeeea",
   "metadata": {
    "ExecuteTime": {
     "end_time": "2021-10-17T13:56:36.543250Z",
     "start_time": "2021-10-17T13:56:36.528291Z"
    }
   },
   "outputs": [],
   "source": [
    "#Merge dos dados cardano e v_mercado\n",
    "data = pd.merge(cardano, v_mercado, on=\"Date\", how=\"left\")\n",
    "data.head(2)"
   ]
  },
  {
   "cell_type": "code",
   "execution_count": null,
   "id": "f5ec4001",
   "metadata": {
    "ExecuteTime": {
     "end_time": "2021-10-17T13:56:36.559208Z",
     "start_time": "2021-10-17T13:56:36.545245Z"
    }
   },
   "outputs": [],
   "source": [
    "#Percentual de duplicadas\n",
    "print('-Verificando duplicadas....: %.2f%%' % data.index.duplicated().sum())\n",
    "# Quantidade de Linhas\n",
    "print('-Numero de linhas ldap.....:', data.shape[0]) \n",
    "# Quantidade de Colunas\n",
    "print('-Numero de colunas ldap....:', data.shape[1])\n",
    "#Linhas e colunas\n",
    "print('-Linhas e Colunas..........:', data.shape ) \n",
    "#Identificar valores null no dataframe\n",
    "print('-Valores NULL..............: %.2f%% ' % data.isnull().sum().sum())\n"
   ]
  },
  {
   "cell_type": "code",
   "execution_count": null,
   "id": "7baff2c0",
   "metadata": {
    "ExecuteTime": {
     "end_time": "2021-10-17T13:56:36.591123Z",
     "start_time": "2021-10-17T13:56:36.560209Z"
    }
   },
   "outputs": [],
   "source": [
    "data.describe()"
   ]
  },
  {
   "cell_type": "code",
   "execution_count": null,
   "id": "390e0883",
   "metadata": {
    "ExecuteTime": {
     "end_time": "2021-10-17T13:56:36.607080Z",
     "start_time": "2021-10-17T13:56:36.592120Z"
    }
   },
   "outputs": [],
   "source": [
    "#Criação da coluna ano-mes\n",
    "data['Mes'] = data.index.to_period('M')\n",
    "data.head(2)"
   ]
  },
  {
   "cell_type": "code",
   "execution_count": null,
   "id": "53ae4873",
   "metadata": {
    "ExecuteTime": {
     "end_time": "2021-10-17T13:56:37.376896Z",
     "start_time": "2021-10-17T13:56:36.608077Z"
    }
   },
   "outputs": [],
   "source": [
    "plt.figure(figsize=(40,7))\n",
    "\n",
    "ax = sns.boxplot(x=\"Mes\", y=\"Volume\", data=data)\n",
    "plt.grid()"
   ]
  },
  {
   "cell_type": "code",
   "execution_count": null,
   "id": "64db10b2",
   "metadata": {
    "ExecuteTime": {
     "end_time": "2021-10-17T13:56:37.615417Z",
     "start_time": "2021-10-17T13:56:37.378923Z"
    }
   },
   "outputs": [],
   "source": [
    "plt.figure(figsize=(18,8))\n",
    "sns.lineplot(data=data['Close'],linewidth = 1.5 , label = 'Fechamento (Close)')\n",
    "plt.grid()\n",
    "plt.show()"
   ]
  },
  {
   "cell_type": "code",
   "execution_count": null,
   "id": "e4f53b8e",
   "metadata": {
    "ExecuteTime": {
     "end_time": "2021-10-17T13:56:37.631311Z",
     "start_time": "2021-10-17T13:56:37.616461Z"
    }
   },
   "outputs": [],
   "source": [
    "data = data.loc['2020-10-01':'2021-12-30']\n",
    "data.head(2)"
   ]
  },
  {
   "cell_type": "code",
   "execution_count": null,
   "id": "c1238636",
   "metadata": {
    "ExecuteTime": {
     "end_time": "2021-10-17T13:56:37.647291Z",
     "start_time": "2021-10-17T13:56:37.632308Z"
    }
   },
   "outputs": [],
   "source": [
    "#Cópia do datagrame \n",
    "obv = data.copy()\n",
    "obv.head(2)"
   ]
  },
  {
   "cell_type": "code",
   "execution_count": null,
   "id": "e540c29f",
   "metadata": {
    "ExecuteTime": {
     "end_time": "2021-10-17T13:56:37.901637Z",
     "start_time": "2021-10-17T13:56:37.648275Z"
    }
   },
   "outputs": [],
   "source": [
    "plt.figure(figsize=(20,7))\n",
    "\n",
    "ax = sns.boxplot(x=\"Mes\", y=\"Volume\", data=data)\n",
    "plt.grid()"
   ]
  },
  {
   "cell_type": "code",
   "execution_count": null,
   "id": "7c556c49",
   "metadata": {
    "ExecuteTime": {
     "end_time": "2021-10-17T13:56:38.076751Z",
     "start_time": "2021-10-17T13:56:37.902584Z"
    }
   },
   "outputs": [],
   "source": [
    "plt.figure(figsize=(18,8))\n",
    "sns.lineplot(data=data['Close'],linewidth = 1.5 , label = 'Fechamento (Close)')\n",
    "plt.grid()\n",
    "plt.show()"
   ]
  },
  {
   "cell_type": "code",
   "execution_count": null,
   "id": "46d70164",
   "metadata": {
    "ExecuteTime": {
     "end_time": "2021-10-17T13:56:38.282305Z",
     "start_time": "2021-10-17T13:56:38.079788Z"
    }
   },
   "outputs": [],
   "source": [
    "data[['Open','High','Low','Close','Adj Close']].plot.line(figsize=(18,8), linewidth=0.5);\n",
    "plt.grid();"
   ]
  },
  {
   "cell_type": "code",
   "execution_count": null,
   "id": "681b3299",
   "metadata": {
    "ExecuteTime": {
     "end_time": "2021-10-17T13:56:38.550843Z",
     "start_time": "2021-10-17T13:56:38.283303Z"
    }
   },
   "outputs": [],
   "source": [
    "plt.figure(figsize=(14, 8))\n",
    "sns.heatmap(data.corr(),\n",
    "            annot = True,\n",
    "            fmt = '.2f',\n",
    "            cmap='Blues')\n",
    "plt.title('Correlação entre variáveis CARDANO')\n",
    "plt.show()"
   ]
  },
  {
   "cell_type": "markdown",
   "id": "032b4561",
   "metadata": {},
   "source": [
    "> ### 4.2 - Média Móvel Simples (MMS)"
   ]
  },
  {
   "cell_type": "code",
   "execution_count": null,
   "id": "fd90bbdb",
   "metadata": {
    "ExecuteTime": {
     "end_time": "2021-10-17T13:56:38.566762Z",
     "start_time": "2021-10-17T13:56:38.551802Z"
    }
   },
   "outputs": [],
   "source": [
    "data['M14'] = data.Close.rolling(14, min_periods=14).mean()\n",
    "data['M25'] = data.Close.rolling(25, min_periods=25).mean()\n",
    "data.head(4)"
   ]
  },
  {
   "cell_type": "code",
   "execution_count": null,
   "id": "35e638e8",
   "metadata": {
    "ExecuteTime": {
     "end_time": "2021-10-17T13:56:38.852241Z",
     "start_time": "2021-10-17T13:56:38.567774Z"
    }
   },
   "outputs": [],
   "source": [
    "plt.figure(figsize=(18,8))\n",
    "sns.lineplot(data=data['M14'],linewidth = 1.5 , label = 'Media - 14 dias')\n",
    "sns.lineplot(data=data['Close'],linewidth = 1.5 , label = 'Fechamento (Close)')\n",
    "sns.lineplot(data=data['M25'],linewidth = 1.5 , label = 'Media - 25 dias ')\n",
    "plt.grid()\n",
    "plt.show()"
   ]
  },
  {
   "cell_type": "markdown",
   "id": "9f496e39",
   "metadata": {
    "ExecuteTime": {
     "end_time": "2021-10-17T13:40:38.272837Z",
     "start_time": "2021-10-17T13:40:38.257183Z"
    }
   },
   "source": [
    "### Criação de indicação de compra e venda com sinal "
   ]
  },
  {
   "cell_type": "code",
   "execution_count": null,
   "id": "c65406c7",
   "metadata": {
    "ExecuteTime": {
     "end_time": "2021-10-17T13:56:38.884111Z",
     "start_time": "2021-10-17T13:56:38.855231Z"
    }
   },
   "outputs": [],
   "source": [
    "data['sinal'] = np.where(data['M14']>data['M25'],1,0)\n",
    "data.head(5)"
   ]
  },
  {
   "cell_type": "code",
   "execution_count": null,
   "id": "584c7023",
   "metadata": {
    "ExecuteTime": {
     "end_time": "2021-10-17T13:56:38.900068Z",
     "start_time": "2021-10-17T13:56:38.885108Z"
    }
   },
   "outputs": [],
   "source": [
    "data['pos'] = data['sinal'].diff()\n",
    "data.head(3)"
   ]
  },
  {
   "cell_type": "code",
   "execution_count": null,
   "id": "d4a6d0b6",
   "metadata": {
    "ExecuteTime": {
     "end_time": "2021-10-17T13:56:39.104958Z",
     "start_time": "2021-10-17T13:56:38.903060Z"
    }
   },
   "outputs": [],
   "source": [
    "plt.figure(figsize = (20,8))\n",
    "data['Close'].plot(color = 'k',linestyle='--',alpha=0.4, label = 'Fechamento (Close)')\n",
    "data['M14'].plot(color = 'b', label = 'Média 14 dias')\n",
    "data['M25'].plot(color = 'g', label = 'Média 25 dias')\n",
    "\n",
    "plt.plot(data[data['pos']== 1].index,\n",
    "         data['M14'][data['pos']== 1],\n",
    "         '^', markersize = 12, color = 'g', label = 'Indicação - Compra')\n",
    "\n",
    "plt.plot(data[data['pos']== -1].index,\n",
    "         data['M25'][data['pos']== -1],\n",
    "         'v', markersize = 12, color = 'r', label = 'Indicação - Venda')\n",
    "\n",
    "plt.ylabel('Preço em Dólar')\n",
    "plt.xlabel(\"Período\")\n",
    "plt.title('Gráfico com sinais de compra e venda')\n",
    "plt.legend()\n",
    "plt.grid()\n",
    "plt.show()"
   ]
  },
  {
   "cell_type": "markdown",
   "id": "505040b2",
   "metadata": {},
   "source": [
    "> ### 4.3 - Média Móvel Convergente e Divergente (MACD) "
   ]
  },
  {
   "cell_type": "code",
   "execution_count": null,
   "id": "df9b35fe",
   "metadata": {
    "ExecuteTime": {
     "end_time": "2021-10-17T13:56:39.137061Z",
     "start_time": "2021-10-17T13:56:39.110998Z"
    }
   },
   "outputs": [],
   "source": [
    "#Função para criar as colunas e sinais\n",
    "def get_macd(preco, mlento, mlongo, suave):\n",
    "    exp1 = preco.ewm(span=mlento, adjust=False).mean()\n",
    "    exp2 = preco.ewm(span=mlongo, adjust=False).mean()\n",
    "\n",
    "    macd = pd.DataFrame(exp1 - exp2).rename(columns={'Close': 'macd'})\n",
    "\n",
    "    sinal = pd.DataFrame(macd.ewm(span=suave, adjust=False).mean()).rename(\n",
    "        columns={'macd': 'sinal'})\n",
    "\n",
    "    hist = pd.DataFrame(macd['macd'] - sinal['sinal']\n",
    "                        ).rename(columns={0: 'hist'})\n",
    "\n",
    "    frames = [macd, sinal, hist]\n",
    "\n",
    "    df = pd.concat(frames, join='inner', axis=1)\n",
    "\n",
    "    return df\n",
    "\n",
    "cardano_macd = get_macd(data['Close'], 26, 12, 6)\n",
    "cardano_macd.tail()"
   ]
  },
  {
   "cell_type": "code",
   "execution_count": null,
   "id": "0c8912c9",
   "metadata": {
    "ExecuteTime": {
     "end_time": "2021-10-17T13:56:39.152987Z",
     "start_time": "2021-10-17T13:56:39.138026Z"
    }
   },
   "outputs": [],
   "source": [
    "#Criação da função estrategia_macd \n",
    "def estrategia_macd(prices, data):\n",
    "    preco_compra = []\n",
    "    preco_venda = []\n",
    "    macd_sinal = []\n",
    "    sinal = 0\n",
    "\n",
    "    for i in range(len(data)):\n",
    "        if data['macd'][i] > data['sinal'][i]:\n",
    "            if sinal != 1:\n",
    "                preco_compra.append(prices[i])\n",
    "                preco_venda.append(np.nan)\n",
    "                sinal = 1\n",
    "                macd_sinal.append(sinal)\n",
    "            else:\n",
    "                preco_compra.append(np.nan)\n",
    "                preco_venda.append(np.nan)\n",
    "                macd_sinal.append(0)\n",
    "        elif data['macd'][i] < data['sinal'][i]:\n",
    "            if sinal != -1:\n",
    "                preco_compra.append(np.nan)\n",
    "                preco_venda.append(prices[i])\n",
    "                sinal = -1\n",
    "                macd_sinal.append(sinal)\n",
    "            else:\n",
    "                preco_compra.append(np.nan)\n",
    "                preco_venda.append(np.nan)\n",
    "                macd_sinal.append(0)\n",
    "        else:\n",
    "            preco_compra.append(np.nan)\n",
    "            preco_venda.append(np.nan)\n",
    "            macd_sinal.append(0)\n",
    "\n",
    "    return preco_compra, preco_venda, macd_sinal\n",
    "\n",
    "\n",
    "preco_compra, preco_venda, macd_sinal = estrategia_macd(\n",
    "    data['Close'], cardano_macd)"
   ]
  },
  {
   "cell_type": "code",
   "execution_count": null,
   "id": "1fdc8ef4",
   "metadata": {
    "ExecuteTime": {
     "end_time": "2021-10-17T13:56:39.877755Z",
     "start_time": "2021-10-17T13:56:39.153995Z"
    }
   },
   "outputs": [],
   "source": [
    "plt.figure(figsize=(18, 6))\n",
    "\n",
    "ax1 = plt.subplot2grid((8, 1), (0, 0), rowspan=5, colspan=1)\n",
    "ax2 = plt.subplot2grid((8, 1), (5, 0), rowspan=3, colspan=1)\n",
    "\n",
    "ax1.plot(data['Close'], color='skyblue',\n",
    "         linewidth=2, label='Fechamento (Close)')\n",
    "ax1.plot(data.index, preco_compra, marker='^', color='g', alpha=0.5,\n",
    "         markersize=12, label='Sinal - Compra', linewidth=0)\n",
    "ax1.plot(data.index, preco_venda, marker='v', color='r', alpha=0.5,\n",
    "         markersize=12, label='Sinal - Venda', linewidth=0)\n",
    "\n",
    "ax1.grid()\n",
    "ax1.legend()\n",
    "\n",
    "ax1.set_title('SINAL - CARDANO - MACD')\n",
    "ax2.plot(cardano_macd['macd'], color='grey', linewidth=1.5, label='MACD')\n",
    "ax2.plot(cardano_macd['sinal'], color='skyblue', linewidth=1.5, label='Sinal')\n",
    "\n",
    "for i in range(len(cardano_macd)):\n",
    "    if str(cardano_macd['hist'][i])[0] == '-':\n",
    "        ax2.bar(cardano_macd.index[i], cardano_macd['hist'][i], color='#ef5350')\n",
    "        \n",
    "    else:\n",
    "        ax2.bar(cardano_macd.index[i], cardano_macd['hist'][i], color='#26a69a')\n",
    "\n",
    "plt.legend(loc='lower right')\n",
    "plt.grid()\n",
    "plt.show()\n"
   ]
  },
  {
   "cell_type": "markdown",
   "id": "2f24eed8",
   "metadata": {},
   "source": [
    "> ### 4.4 - Índice de Força Relativa (RSI)"
   ]
  },
  {
   "cell_type": "code",
   "execution_count": null,
   "id": "bd65a095",
   "metadata": {
    "ExecuteTime": {
     "end_time": "2021-10-17T13:56:39.909114Z",
     "start_time": "2021-10-17T13:56:39.878754Z"
    }
   },
   "outputs": [],
   "source": [
    "def RSI(data, window=10, adjust=False):\n",
    "    delta = data['Close'].diff().dropna()\n",
    "    perda = delta.copy()\n",
    "    ganho = delta.copy()\n",
    "\n",
    "    ganho[ganho < 0] = 0\n",
    "    perda[perda > 0] = 0\n",
    "\n",
    "    ganho_ewm = ganho.ewm(com=window-1, adjust=adjust).mean()\n",
    "    perda_ewm = abs(perda.ewm(com=window-1, adjust=adjust).mean())\n",
    "\n",
    "    RS = ganho_ewm / perda_ewm\n",
    "    RSI = 100 - 100/(1 + RS)\n",
    "\n",
    "    return RSI\n",
    "rsi = RSI(data)"
   ]
  },
  {
   "cell_type": "code",
   "execution_count": null,
   "id": "29426ebe",
   "metadata": {
    "ExecuteTime": {
     "end_time": "2021-10-17T13:56:39.924312Z",
     "start_time": "2021-10-17T13:56:39.912323Z"
    }
   },
   "outputs": [],
   "source": [
    "spy = data[1:]\n",
    "spy['RSI'] = rsi\n",
    "spy['ponto_venda'] = np.where((rsi > 70) & (rsi.shift(1) <= 70), 1, 0)\n",
    "spy['ponto_compra'] = np.where((rsi < 30) & (rsi.shift(1) >= 30), 1, 0)"
   ]
  },
  {
   "cell_type": "code",
   "execution_count": null,
   "id": "05fec20b",
   "metadata": {
    "ExecuteTime": {
     "end_time": "2021-10-17T13:56:40.209480Z",
     "start_time": "2021-10-17T13:56:39.925282Z"
    }
   },
   "outputs": [],
   "source": [
    "fig, ax = plt.subplots(2, 1, figsize=(18, 6))\n",
    "\n",
    "ax[0].plot(spy['Close'][-500:], label='Fechamento (Close)')\n",
    "ax[1].plot(rsi[-500:], label='Fechamento (Close)', c='purple')\n",
    "ax[1].axhline(y=70, c='blue', label='RSI - 70%')\n",
    "ax[1].axhline(y=30, c='orange', label='RSI - 30%')\n",
    "ax[0].legend()\n",
    "ax[1].legend(loc='lower right', fontsize=8)\n",
    "\n",
    "ax[1].scatter(spy[spy['ponto_compra'] == 1][-5:].index,\n",
    "              spy[spy['ponto_compra'] == 1]['RSI'][-5:],\n",
    "              c='green',alpha=1)\n",
    "\n",
    "ax[1].scatter(spy[spy['ponto_venda'] == 1][-16:].index,\n",
    "              spy[spy['ponto_venda'] == 1]['RSI'][-16:],\n",
    "              c='red',alpha=1);\n",
    "plt.grid()"
   ]
  },
  {
   "cell_type": "markdown",
   "id": "23632b19",
   "metadata": {
    "ExecuteTime": {
     "end_time": "2021-10-17T10:46:27.882700Z",
     "start_time": "2021-10-17T10:46:27.868704Z"
    }
   },
   "source": [
    "> ### 4.5 - Método Estocástico"
   ]
  },
  {
   "cell_type": "code",
   "execution_count": null,
   "id": "3f863609",
   "metadata": {
    "ExecuteTime": {
     "end_time": "2021-10-17T13:56:40.224838Z",
     "start_time": "2021-10-17T13:56:40.210876Z"
    }
   },
   "outputs": [],
   "source": [
    "n = 8\n",
    "n_highest_high = data[\"High\"].rolling(n).max() # Leitura do valor máxima\n",
    "n_lowest_low = data[\"Low\"].rolling(n).min() # Leitura do valor mínima"
   ]
  },
  {
   "cell_type": "code",
   "execution_count": null,
   "id": "3254ad0a",
   "metadata": {
    "ExecuteTime": {
     "end_time": "2021-10-17T13:56:40.240795Z",
     "start_time": "2021-10-17T13:56:40.225837Z"
    }
   },
   "outputs": [],
   "source": [
    "data[\"%K\"] = (\n",
    "    (data[\"Close\"] - n_lowest_low) /\n",
    "    (n_highest_high - n_lowest_low)\n",
    ") * 100\n",
    "\n",
    "data.head(2)"
   ]
  },
  {
   "cell_type": "code",
   "execution_count": null,
   "id": "954e7d42",
   "metadata": {
    "ExecuteTime": {
     "end_time": "2021-10-17T13:56:40.256752Z",
     "start_time": "2021-10-17T13:56:40.241793Z"
    }
   },
   "outputs": [],
   "source": [
    "data[\"%D\"] = data['%K'].rolling(3).mean()\n",
    "data.head(2)"
   ]
  },
  {
   "cell_type": "code",
   "execution_count": null,
   "id": "436a8165",
   "metadata": {
    "ExecuteTime": {
     "end_time": "2021-10-17T13:56:40.272709Z",
     "start_time": "2021-10-17T13:56:40.257750Z"
    }
   },
   "outputs": [],
   "source": [
    "data.dropna(inplace=True)\n",
    "data.head(2)"
   ]
  },
  {
   "cell_type": "code",
   "execution_count": null,
   "id": "24d688a6",
   "metadata": {
    "ExecuteTime": {
     "end_time": "2021-10-17T13:56:40.303628Z",
     "start_time": "2021-10-17T13:56:40.273709Z"
    }
   },
   "outputs": [],
   "source": [
    "data[\"Slow %K\"] = data[\"%D\"]\n",
    "data[\"Slow %D\"] = data[\"Slow %K\"].rolling(3).mean()\n",
    "data.head()"
   ]
  },
  {
   "cell_type": "code",
   "execution_count": null,
   "id": "f2ba28d4",
   "metadata": {
    "ExecuteTime": {
     "end_time": "2021-10-17T13:56:40.588469Z",
     "start_time": "2021-10-17T13:56:40.304624Z"
    }
   },
   "outputs": [],
   "source": [
    "data[[\"Slow %K\", \"Slow %D\"]].plot(figsize=(18,7))\n",
    "plt.axhline(y=20.0, color='black', linestyle='--', linewidth=1)\n",
    "plt.axhline(y=80.0, color='black', linestyle='--', linewidth=1)\n",
    "plt.ylim(0, 100.0);\n",
    "plt.grid()"
   ]
  },
  {
   "cell_type": "code",
   "execution_count": null,
   "id": "75752fb6",
   "metadata": {
    "ExecuteTime": {
     "end_time": "2021-10-17T13:56:40.922445Z",
     "start_time": "2021-10-17T13:56:40.590465Z"
    }
   },
   "outputs": [],
   "source": [
    "def plot_stochastic(data):\n",
    "    fig, (ax1, ax2) = plt.subplots(\n",
    "        nrows=2,\n",
    "        sharex=True,\n",
    "        figsize=(18, 8),\n",
    "        gridspec_kw={\"height_ratios\": [3, 1]})\n",
    "\n",
    "    ax1.plot(data.index, data[\"Close\"], label=\"Fechamento\")\n",
    "    ax1.grid()\n",
    "    ax1.legend()\n",
    "\n",
    "    ax2.plot(data.index, data[[\"Slow %K\"]], label='Estocástico Lento')\n",
    "    ax2.plot(data.index, data[[\"Slow %D\"]], label='MMA(3)', linewidth=1)\n",
    "    ax2.axhline(y=80, color='r', linestyle='--', linewidth=1)\n",
    "    ax2.axhline(y=20, color='r', linestyle='--', linewidth=1)\n",
    "    ax2.set_ylim(0, 100)\n",
    "    ax2.legend()\n",
    "    \n",
    "plot_stochastic(data)"
   ]
  },
  {
   "cell_type": "code",
   "execution_count": null,
   "id": "a2358b6a",
   "metadata": {
    "ExecuteTime": {
     "end_time": "2021-10-17T13:56:41.208565Z",
     "start_time": "2021-10-17T13:56:40.923268Z"
    }
   },
   "outputs": [],
   "source": [
    "def stochastic(data, k_window=8, mma_window=3):\n",
    "    \n",
    "    n_highest_high = data[\"High\"].rolling(k_window).max()\n",
    "    n_lowest_low = data[\"Low\"].rolling(k_window).min()\n",
    "    \n",
    "    data[\"%K\"] = (\n",
    "        (data[\"Close\"] - n_lowest_low) / \n",
    "        (n_highest_high - n_lowest_low)\n",
    "    ) * 100\n",
    "    data[\"%D\"] = data['%K'].rolling(mma_window).mean()\n",
    "    \n",
    "    data[\"Slow %K\"] = data[\"%D\"]\n",
    "    data[\"Slow %D\"] = data[\"Slow %K\"].rolling(mma_window).mean()\n",
    "    \n",
    "    return data \n",
    "\n",
    "plot_stochastic(data)"
   ]
  },
  {
   "cell_type": "markdown",
   "id": "d14e49cd",
   "metadata": {},
   "source": [
    "> ### 4.6 - Suporte e Resistência"
   ]
  },
  {
   "cell_type": "code",
   "execution_count": null,
   "id": "a4a6ddd4",
   "metadata": {
    "ExecuteTime": {
     "end_time": "2021-10-17T13:56:41.224556Z",
     "start_time": "2021-10-17T13:56:41.209570Z"
    }
   },
   "outputs": [],
   "source": [
    "# SUPORTE RESISTÊNCIA\n",
    "# Bibliotecas utilizadas para Suporte e Resistência\n",
    "import matplotlib.dates as mpl_dates \n",
    "from mplfinance.original_flavor import candlestick_ohlc\n",
    "plt.rcParams ['figure.figsize'] = [20, 8] \n",
    "plt.rc ('font', size = 14)"
   ]
  },
  {
   "cell_type": "code",
   "execution_count": null,
   "id": "e156635b",
   "metadata": {
    "ExecuteTime": {
     "end_time": "2021-10-17T13:56:41.255443Z",
     "start_time": "2021-10-17T13:56:41.225556Z"
    }
   },
   "outputs": [],
   "source": [
    "data['Date'] = pd.to_datetime(data.index)\n",
    "data['Date'] = data['Date'].apply(mpl_dates.date2num)\n",
    "data = data.loc[:,['Date', 'Open', 'High', 'Low', 'Close']]"
   ]
  },
  {
   "cell_type": "code",
   "execution_count": null,
   "id": "94bc2ef1",
   "metadata": {
    "ExecuteTime": {
     "end_time": "2021-10-17T13:56:41.271400Z",
     "start_time": "2021-10-17T13:56:41.256485Z"
    }
   },
   "outputs": [],
   "source": [
    "def suporte(data, i):\n",
    "    support = data['Low'][i] < data['Low'][i-1] and data['Low'][i] < data['Low'][i+1] \\\n",
    "        and data['Low'][i+1] < data['Low'][i+2] and data['Low'][i-1] < data['Low'][i-2]\n",
    "    return support\n",
    "\n",
    "\n",
    "def resistencia(data, i):\n",
    "    resistance = data['High'][i] > data['High'][i-1] and data['High'][i] > data['High'][i+1] \\\n",
    "        and data['High'][i+1] > data['High'][i+2] and data['High'][i-1] > data['High'][i-2]\n",
    "    return resistance"
   ]
  },
  {
   "cell_type": "code",
   "execution_count": null,
   "id": "48440d67",
   "metadata": {
    "ExecuteTime": {
     "end_time": "2021-10-17T13:56:41.287357Z",
     "start_time": "2021-10-17T13:56:41.272397Z"
    }
   },
   "outputs": [],
   "source": [
    "levels = []\n",
    "for i in range(2, data.shape[0]-2):\n",
    "    if suporte(data, i):\n",
    "        levels.append((i, data['Low'][i]))\n",
    "    elif resistencia(data, i):\n",
    "        levels.append((i, data['High'][i]))"
   ]
  },
  {
   "cell_type": "code",
   "execution_count": null,
   "id": "c897de90",
   "metadata": {
    "ExecuteTime": {
     "end_time": "2021-10-17T13:56:42.213403Z",
     "start_time": "2021-10-17T13:56:41.288354Z"
    }
   },
   "outputs": [],
   "source": [
    "#função que traça o preço e os níveis-chave juntos.\n",
    "def plot_all():\n",
    "    fig, ax = plt.subplots()\n",
    "\n",
    "    candlestick_ohlc(ax, data.values, width=0.6,\n",
    "                     colorup='green', colordown='red', alpha=0.8)\n",
    "\n",
    "    date_format = mpl_dates.DateFormatter('%d %b %Y')\n",
    "    ax.xaxis.set_major_formatter(date_format)\n",
    "    fig.autofmt_xdate()\n",
    "\n",
    "    fig.tight_layout()\n",
    "\n",
    "    for level in levels:\n",
    "        plt.hlines(level[1], xmin=data['Date'][level[0]],\n",
    "                   xmax=max(data['Date']), colors='blue', linestyle='-', alpha=0.4, color = 'b')\n",
    "    fig.show()\n",
    "  \n",
    "plot_all()\n",
    "plt.grid()"
   ]
  },
  {
   "cell_type": "code",
   "execution_count": null,
   "id": "ca018e6b",
   "metadata": {
    "ExecuteTime": {
     "end_time": "2021-10-17T13:56:42.229408Z",
     "start_time": "2021-10-17T13:56:42.214428Z"
    }
   },
   "outputs": [],
   "source": [
    "s =  np.mean(data['High'] - data['Low'])"
   ]
  },
  {
   "cell_type": "code",
   "execution_count": null,
   "id": "f2c06055",
   "metadata": {
    "ExecuteTime": {
     "end_time": "2021-10-17T13:56:42.245329Z",
     "start_time": "2021-10-17T13:56:42.230369Z"
    }
   },
   "outputs": [],
   "source": [
    "def isFarFromLevel(l):\n",
    "  return np.sum([abs(l-x) < s  for x in levels]) == 0"
   ]
  },
  {
   "cell_type": "code",
   "execution_count": null,
   "id": "9714dcb2",
   "metadata": {
    "ExecuteTime": {
     "end_time": "2021-10-17T13:56:43.164451Z",
     "start_time": "2021-10-17T13:56:42.246327Z"
    }
   },
   "outputs": [],
   "source": [
    "levels = []\n",
    "for i in range(2, data.shape[0]-2):\n",
    "    if suporte(data, i):\n",
    "        l = data['Low'][i]\n",
    "\n",
    "        if isFarFromLevel(l):\n",
    "            levels.append((i, l))\n",
    "\n",
    "    elif resistencia(data, i):\n",
    "        l = data['High'][i]\n",
    "\n",
    "        if isFarFromLevel(l):\n",
    "            levels.append((i, l))\n",
    "plot_all()\n",
    "plt.grid()"
   ]
  },
  {
   "cell_type": "markdown",
   "id": "df19e2fe",
   "metadata": {},
   "source": [
    "> ### 4.7 - Bandas de Bollinger (BB) "
   ]
  },
  {
   "cell_type": "code",
   "execution_count": null,
   "id": "dc46744f",
   "metadata": {
    "ExecuteTime": {
     "end_time": "2021-10-17T13:56:43.180264Z",
     "start_time": "2021-10-17T13:56:43.165278Z"
    }
   },
   "outputs": [],
   "source": [
    "periodo = 26 # Periodo de 20 dias\n",
    "multiplicar = 2 # Multiplicação por 2 "
   ]
  },
  {
   "cell_type": "code",
   "execution_count": null,
   "id": "565c0c12",
   "metadata": {
    "ExecuteTime": {
     "end_time": "2021-10-17T13:56:43.339534Z",
     "start_time": "2021-10-17T13:56:43.181236Z"
    }
   },
   "outputs": [],
   "source": [
    "# multiplicador do desvio padrão\n",
    "data['BandaSuperior'] = data['Close'].rolling(periodo).mean() + data['Close'].rolling(periodo).std() * multiplicar\n",
    "data['BandaInferior'] = data['Close'].rolling(periodo).mean() - data['Close'].rolling(periodo).std() * multiplicar\n",
    "\n",
    "#Média 20 dias \n",
    "data['Banda_Media'] = data['Close'].rolling(periodo).mean()\n",
    "\n",
    "plt.rcParams['figure.figsize'] = [18, 6]\n",
    "plt.rc('font', size=11)\n",
    "plt.plot(data['Close'], label=\"Fechamento (Close)\")\n",
    "\n",
    "plt.plot(data['BandaSuperior'], linewidth=1,\n",
    "         label=\"Banda de Bollinger Superior\")\n",
    "plt.plot(data['Banda_Media'], linewidth=1, label=\"Banda de Bollinger Média\")\n",
    "plt.plot(data['BandaInferior'], linewidth=1,\n",
    "         label=\"Banda de Bollinger Inferior\")\n",
    "plt.grid()\n",
    "plt.legend()\n",
    "plt.show()"
   ]
  },
  {
   "cell_type": "code",
   "execution_count": null,
   "id": "1514a356",
   "metadata": {
    "ExecuteTime": {
     "end_time": "2021-10-17T13:56:43.499070Z",
     "start_time": "2021-10-17T13:56:43.340531Z"
    }
   },
   "outputs": [],
   "source": [
    "fig = plt.figure(figsize=(18, 6))\n",
    "ax = fig.add_subplot(111)\n",
    "\n",
    "# Obtenha valores de índice para o eixo X para DataFrame\n",
    "x_axis = data.index.get_level_values(0)\n",
    "\n",
    "# Linha um Bollinger Band de 20 dias sombreado \n",
    "ax.fill_between(x_axis, data['BandaSuperior'], data['BandaInferior'],\n",
    "                color='mediumturquoise', label=\"Nível de Banda Bollinger\")\n",
    "\n",
    "# Gráfico de ajuste de preço de fechamento e médias móveis\n",
    "ax.plot(x_axis, data['Close'], color='b', lw=1, label=\"Fechamento (Close)\")\n",
    "\n",
    "ax.plot(x_axis, data['Banda_Media'], color='w', alpha=1, lw=2, label=\"Média de 20 Dias\")\n",
    "\n",
    "# Impressão da Imagem\n",
    "ax.set_title('20 Dias (Bollinger Band)', fontsize=12)\n",
    "ax.set_xlabel('Data')\n",
    "ax.set_ylabel('Fechamento (Close) preço em USD', fontsize=12)\n",
    "plt.grid()\n",
    "ax.legend()\n",
    "plt.show()"
   ]
  },
  {
   "cell_type": "markdown",
   "id": "9dc3c47e",
   "metadata": {
    "ExecuteTime": {
     "end_time": "2021-10-17T13:55:41.997936Z",
     "start_time": "2021-10-17T13:55:41.986967Z"
    }
   },
   "source": [
    "> ### 4.8 - Tópics Trend – Tendência de Alta e Baixa"
   ]
  },
  {
   "cell_type": "code",
   "execution_count": null,
   "id": "ab1c0fb7",
   "metadata": {
    "ExecuteTime": {
     "end_time": "2021-10-17T13:56:44.118146Z",
     "start_time": "2021-10-17T13:56:43.500068Z"
    }
   },
   "outputs": [],
   "source": [
    "# Leitura da da base de dados API com dados limpos para impressão da Tópics Trends\n",
    "trend = yf.download(\"ADA-USD\", start=\"2019-01-1\", end=\"2021-10-5\", order= 'ascending', interval='1d')\n",
    "trend = trend.loc['2020-10-01':'2021-10-14']\n",
    "trend.head(2)"
   ]
  },
  {
   "cell_type": "code",
   "execution_count": null,
   "id": "9cd44f37",
   "metadata": {
    "ExecuteTime": {
     "end_time": "2021-10-17T13:56:44.875455Z",
     "start_time": "2021-10-17T13:56:44.119145Z"
    }
   },
   "outputs": [],
   "source": [
    "tren = trend\n",
    "# Codigo para o movimento de tendencia alta e baixa\n",
    "res = trendet.identify_df_trends(df=tren, column='Close')\n",
    "\n",
    "trend.reset_index(inplace=True)\n",
    "\n",
    "plt.figure(figsize=(20, 7))\n",
    "ax = sns.lineplot(x=tren.index, y=tren['Close'])\n",
    "ax.set(xlabel='Data')\n",
    "\n",
    "labels = tren['Up Trend'].dropna().unique().tolist()\n",
    "\n",
    "for label in labels:\n",
    "    sns.lineplot(x=tren[tren['Up Trend'] == label].index,\n",
    "                 y=tren[tren['Up Trend'] == label]['Close'],\n",
    "                 color='green')\n",
    "\n",
    "    ax.axvspan(tren[tren['Up Trend'] == label].index[0],\n",
    "               tren[tren['Up Trend'] == label].index[-1],\n",
    "               alpha=0.2,\n",
    "               color='green')\n",
    "\n",
    "for label in labels:\n",
    "    sns.lineplot(x=tren[tren['Up Trend'] == label].index,\n",
    "                y=tren[tren['Up Trend'] == label]['Close'],\n",
    "                color='white', linestyle='dashed')\n",
    "    \n",
    "    ax.axvspan(tren[tren['Up Trend'] == label].index[0],\n",
    "               tren[tren['Up Trend'] == label].index[-1],\n",
    "               alpha=0.2,\n",
    "               color='green')\n",
    "\n",
    "labels = trend['Down Trend'].dropna().unique().tolist()\n",
    "\n",
    "for label in labels:\n",
    "    sns.lineplot(x=tren[tren['Down Trend'] == label].index,\n",
    "                 y=tren[tren['Down Trend'] == label]['Close'],\n",
    "                 color='red')\n",
    "\n",
    "    ax.axvspan(tren[tren['Down Trend'] == label].index[0],\n",
    "               tren[tren['Down Trend'] == label].index[-1],\n",
    "               alpha=0.2,\n",
    "               color='red')\n",
    "for label in labels:\n",
    "    sns.lineplot(x=tren[tren['Down Trend'] == label].index,\n",
    "                 y=tren[tren['Down Trend'] == label]['Close'],\n",
    "                 color='white', linestyle='dashed')\n",
    "\n",
    "    ax.axvspan(tren[tren['Down Trend'] == label].index[0],\n",
    "               tren[tren['Down Trend'] == label].index[-1],\n",
    "               alpha=0.2,\n",
    "               color='red')\n",
    "\n",
    "locs, _ = plt.xticks()\n",
    "labels = []\n",
    "\n",
    "for position in locs[1:-1]:\n",
    "    labels.append(str(trend['Date'].loc[position])[:-9])\n",
    "\n",
    "plt.xticks(locs[1:-1], labels)\n",
    "plt.grid()\n",
    "plt.show()"
   ]
  },
  {
   "cell_type": "markdown",
   "id": "0c6b35cc",
   "metadata": {
    "ExecuteTime": {
     "end_time": "2021-10-17T10:46:30.834224Z",
     "start_time": "2021-10-17T10:46:30.820301Z"
    }
   },
   "source": [
    "> ### 4.8 - Tópics Trend – Tendência de Alta e Baixa"
   ]
  },
  {
   "cell_type": "code",
   "execution_count": null,
   "id": "916aee52",
   "metadata": {
    "ExecuteTime": {
     "end_time": "2021-10-17T13:56:45.019090Z",
     "start_time": "2021-10-17T13:56:44.876426Z"
    }
   },
   "outputs": [],
   "source": [
    "#Configuração para plotar o gráfico da Fibonnacci\n",
    "plt.figure(figsize=(18,7))\n",
    "plt.title('Retração Fibonnacci - CARDANO')\n",
    "plt.plot(data.index, data['Close'])\n",
    "\n",
    "#Calculate o valor maximo e  mininmo com o preço do fechamento\n",
    "preco_maximo = data['Close'].max()\n",
    "minimo_preco = data['Close'].min()\n",
    "\n",
    "#Cacula a diferença entre o preço maximo e mínimo (subtração)\n",
    "diferenca = preco_maximo - minimo_preco\n",
    "\n",
    "#Impressão do preço em cada nível\n",
    "primeiro_nivel = preco_maximo - diferenca * 0.236   \n",
    "segundo_nivel = preco_maximo - diferenca * 0.382  \n",
    "terceiro_nivel = preco_maximo - diferenca * 0.5     \n",
    "quarto_nivel = preco_maximo - diferenca * 0.618  \n",
    "\n",
    "#Impressão do preço em cada nível\n",
    "print(\"Nível Percentage\\t\", \"\\t Preço ($)\")\n",
    "print(\"Preço Máximo....: 00.0%\\t\\t\", \"{0:.3f}\".format(preco_maximo))\n",
    "print(\"Primeiro Nível..: 23.6%\\t\\t\", \"{0:.3f}\".format(primeiro_nivel))\n",
    "print(\"Segundo Nível...: 38.2%\\t\\t\", \"{0:.3f}\".format(segundo_nivel))\n",
    "print(\"Terceiro Nível..: 50.0%\\t\\t\", \"{0:.3f}\".format(terceiro_nivel))\n",
    "print(\"Quarto Nível....: 61.8%\\t\\t\", \"{0:.3f}\".format(quarto_nivel))\n",
    "print(\"Preço Mínimo....: 100.0%\\t\", \"{0:.3f}\".format(minimo_preco))\n",
    "\n",
    "plt.axhline(preco_maximo, linestyle='-', alpha=0.5, color = 'red')\n",
    "plt.axhline(primeiro_nivel, linestyle='-', alpha=0.5, color = 'orange')\n",
    "plt.axhline(segundo_nivel, linestyle='-', alpha=0.5, color = 'yellow')\n",
    "plt.axhline(terceiro_nivel, linestyle='-', alpha=0.5, color = 'green')\n",
    "plt.axhline(quarto_nivel, linestyle='-', alpha=0.5, color = 'blue')\n",
    "plt.axhline(minimo_preco, linestyle='-', alpha=0.5, color = 'purple')\n",
    "plt.xlabel('Date',fontsize=12)\n",
    "#Impressão do gráfico\n",
    "plt.ylabel('Fechamento (Close) preço em USD',fontsize=12)\n",
    "plt.grid()\n",
    "plt.show()"
   ]
  },
  {
   "cell_type": "markdown",
   "id": "b3dbd003",
   "metadata": {
    "ExecuteTime": {
     "end_time": "2021-10-17T10:46:32.715601Z",
     "start_time": "2021-10-17T10:46:32.700603Z"
    }
   },
   "source": [
    "> ### 4.10 - On Balance Volume (OBV)"
   ]
  },
  {
   "cell_type": "code",
   "execution_count": null,
   "id": "2b48c1a0",
   "metadata": {
    "ExecuteTime": {
     "end_time": "2021-10-17T13:56:45.035002Z",
     "start_time": "2021-10-17T13:56:45.020043Z"
    }
   },
   "outputs": [],
   "source": [
    "obv['variacao'] = obv['Close'].diff()\n",
    "obv = obv[1:] # remove first row once it does not have a variation\n",
    "obv.head()"
   ]
  },
  {
   "cell_type": "code",
   "execution_count": null,
   "id": "45997c09",
   "metadata": {
    "ExecuteTime": {
     "end_time": "2021-10-17T13:56:45.050959Z",
     "start_time": "2021-10-17T13:56:45.036000Z"
    }
   },
   "outputs": [],
   "source": [
    "obv['OBV Change'] = np.where(\n",
    "    obv['variacao'] > 0,\n",
    "    obv['Volume'],\n",
    "    np.where(obv['variacao'] < 0, -obv['Volume'], 0))\n",
    "obv['OBV'] = obv['OBV Change'].cumsum()\n",
    "obv.head()"
   ]
  },
  {
   "cell_type": "code",
   "execution_count": null,
   "id": "2bcfce59",
   "metadata": {
    "ExecuteTime": {
     "end_time": "2021-10-17T13:56:45.335128Z",
     "start_time": "2021-10-17T13:56:45.051957Z"
    }
   },
   "outputs": [],
   "source": [
    "fig, (ax1, ax2) = plt.subplots(\n",
    "    nrows=2,\n",
    "    sharex=True, \n",
    "    figsize=(20,8), \n",
    "    gridspec_kw={'height_ratios': [3, 1]})\n",
    "\n",
    "# índice de valor onde vamos traçar uma linha horizontal\n",
    "index = obv.index.get_loc(\"2021-05-01\")\n",
    "\n",
    "# Plot do preço\n",
    "ax1.plot(obv.index, obv['Close'], label='Fechamento CARDANO')\n",
    "ax1.grid()\n",
    "ax1.legend()\n",
    "ax1.axhline(y=obv[\"Close\"][index], color='red', linestyle='--')\n",
    "\n",
    "# Plot OBV\n",
    "ax2.plot(obv.index, obv['OBV'], label='On Balance Volume (OBV)', color=\"b\")\n",
    "ax2.axhline(y=obv[\"OBV\"][index], color='red', linestyle='--')\n",
    "ax2.plot(obv.index, obv['Cap_Mercado'], label='Capitão de Mercado', color=\"#033660\")\n",
    "ax2.grid()\n",
    "ax2.legend();"
   ]
  },
  {
   "cell_type": "markdown",
   "id": "7d4f2c48",
   "metadata": {
    "ExecuteTime": {
     "end_time": "2021-10-17T10:46:33.047736Z",
     "start_time": "2021-10-17T10:46:33.033545Z"
    }
   },
   "source": [
    "> # Previsão de série temporal com o prophet"
   ]
  },
  {
   "cell_type": "code",
   "execution_count": null,
   "id": "66e877fc",
   "metadata": {
    "ExecuteTime": {
     "end_time": "2021-10-17T13:56:45.422409Z",
     "start_time": "2021-10-17T13:56:45.336091Z"
    }
   },
   "outputs": [],
   "source": [
    "# Biblioteca para Prophet\n",
    "from fbprophet import Prophet"
   ]
  },
  {
   "cell_type": "code",
   "execution_count": null,
   "id": "ac8499b0",
   "metadata": {
    "ExecuteTime": {
     "end_time": "2021-10-17T13:56:46.019872Z",
     "start_time": "2021-10-17T13:56:45.423374Z"
    }
   },
   "outputs": [],
   "source": [
    "data = yf.download(\"ADA-USD\", start=\"2018-01-01\", end=\"2021-10-14\")\n",
    "data.head(2)"
   ]
  },
  {
   "cell_type": "code",
   "execution_count": null,
   "id": "8ca20f4d",
   "metadata": {
    "ExecuteTime": {
     "end_time": "2021-10-17T13:56:46.035830Z",
     "start_time": "2021-10-17T13:56:46.020869Z"
    }
   },
   "outputs": [],
   "source": [
    "data.reset_index(drop=False, inplace=True)\n",
    "data.head(2)"
   ]
  },
  {
   "cell_type": "code",
   "execution_count": null,
   "id": "ad286c9b",
   "metadata": {
    "ExecuteTime": {
     "end_time": "2021-10-17T13:56:46.051787Z",
     "start_time": "2021-10-17T13:56:46.036827Z"
    }
   },
   "outputs": [],
   "source": [
    "data = data.drop(['Open', 'High', 'Low', 'Adj Close', 'Volume'], axis = 1)\n",
    "data.head(2)"
   ]
  },
  {
   "cell_type": "code",
   "execution_count": null,
   "id": "63bd7c25",
   "metadata": {
    "ExecuteTime": {
     "end_time": "2021-10-17T13:56:46.067744Z",
     "start_time": "2021-10-17T13:56:46.052784Z"
    }
   },
   "outputs": [],
   "source": [
    "# Select Date and Price\n",
    "#data = data[[\"Date\",\"Adj Close\"]] \n",
    "# Rename the features: These names are required for the model fitting\n",
    "data = data.rename(columns = {\"Date\":\"ds\",\"Close\":\"y\"}) \n",
    "data.head()"
   ]
  },
  {
   "cell_type": "code",
   "execution_count": null,
   "id": "7ca33ced",
   "metadata": {
    "ExecuteTime": {
     "end_time": "2021-10-17T13:56:50.612197Z",
     "start_time": "2021-10-17T13:56:46.068742Z"
    }
   },
   "outputs": [],
   "source": [
    "cardano=Prophet()\n",
    "cardano.fit(data)\n",
    "futuro=cardano.make_future_dataframe(periods=12, freq='M')\n",
    "previsao=cardano.predict(futuro)\n",
    "\n",
    "# future_air =  futuro\n",
    "# forecast_air = previsão"
   ]
  },
  {
   "cell_type": "code",
   "execution_count": null,
   "id": "04938afe",
   "metadata": {
    "ExecuteTime": {
     "end_time": "2021-10-17T13:56:50.865884Z",
     "start_time": "2021-10-17T13:56:50.612197Z"
    }
   },
   "outputs": [],
   "source": [
    "cardano.plot(previsao,xlabel='Data',\n",
    "                             ylabel='CARDANO')"
   ]
  },
  {
   "cell_type": "code",
   "execution_count": null,
   "id": "ac19658d",
   "metadata": {
    "ExecuteTime": {
     "end_time": "2021-10-17T13:56:55.871706Z",
     "start_time": "2021-10-17T13:56:50.867854Z"
    }
   },
   "outputs": [],
   "source": [
    "cardano=Prophet(seasonality_mode='multiplicative')\n",
    "cardano.fit(data)\n",
    "futuro=cardano.make_future_dataframe(periods=12, freq='M')\n",
    "previsao=cardano.predict(futuro)\n"
   ]
  },
  {
   "cell_type": "code",
   "execution_count": null,
   "id": "e32eef51",
   "metadata": {
    "ExecuteTime": {
     "end_time": "2021-10-17T13:56:56.054751Z",
     "start_time": "2021-10-17T13:56:55.871706Z"
    }
   },
   "outputs": [],
   "source": [
    "from fbprophet.plot import add_changepoints_to_plot\n",
    "fig_air = cardano.plot(previsao)\n",
    "a = add_changepoints_to_plot(fig_air.gca(), cardano, previsao)"
   ]
  },
  {
   "cell_type": "code",
   "execution_count": null,
   "id": "ca6eb557",
   "metadata": {
    "ExecuteTime": {
     "end_time": "2021-10-17T13:57:05.448871Z",
     "start_time": "2021-10-17T13:56:56.055781Z"
    }
   },
   "outputs": [],
   "source": [
    "cardano = Prophet(changepoint_prior_scale=0.50,\n",
    "                  seasonality_mode='multiplicative'\n",
    "                  )\n",
    "previsao = cardano.fit(data).predict(futuro)\n",
    "fig_air = cardano.plot(previsao)\n",
    "a = add_changepoints_to_plot(fig_air.gca(), cardano, previsao)"
   ]
  },
  {
   "cell_type": "code",
   "execution_count": null,
   "id": "adc1a73a",
   "metadata": {
    "ExecuteTime": {
     "end_time": "2021-10-17T13:57:05.830606Z",
     "start_time": "2021-10-17T13:57:05.450867Z"
    }
   },
   "outputs": [],
   "source": [
    "#Componentes do modelo de plotagem\n",
    "cardano.plot_components(previsao);"
   ]
  },
  {
   "cell_type": "markdown",
   "id": "a93c5e78",
   "metadata": {
    "ExecuteTime": {
     "end_time": "2021-10-17T11:16:56.957299Z",
     "start_time": "2021-10-17T11:16:56.941644Z"
    }
   },
   "source": [
    "> # Previsões de Séries Temporais 5 DIAS"
   ]
  },
  {
   "cell_type": "code",
   "execution_count": null,
   "id": "e6989a98",
   "metadata": {
    "ExecuteTime": {
     "end_time": "2021-10-17T13:57:06.316857Z",
     "start_time": "2021-10-17T13:57:05.831603Z"
    }
   },
   "outputs": [],
   "source": [
    "data = yf.Ticker(\"ADA-USD\")\n",
    "data = data.history(start=\"2020-10-01\", end=\"2021-10-14\", interval=\"1d\", prepost=bool,\n",
    "                      actions=False, threads=True, auto_adjust=True, back_adjust=True, rounding=True)\n",
    "data.head(2)\n"
   ]
  },
  {
   "cell_type": "code",
   "execution_count": null,
   "id": "2021248a",
   "metadata": {
    "ExecuteTime": {
     "end_time": "2021-10-17T13:57:06.332814Z",
     "start_time": "2021-10-17T13:57:06.317854Z"
    }
   },
   "outputs": [],
   "source": [
    "# Para este modelo, vamos reduzir o periodo\n",
    "data = data.loc['2021-01-01':'2021-10-1']"
   ]
  },
  {
   "cell_type": "code",
   "execution_count": null,
   "id": "2bf032c0",
   "metadata": {
    "ExecuteTime": {
     "end_time": "2021-10-17T13:57:06.348807Z",
     "start_time": "2021-10-17T13:57:06.337801Z"
    }
   },
   "outputs": [],
   "source": [
    "#Removendo as colunas desnecessárias para o modelo\n",
    "data = data.drop(['Open', 'High', 'Low', 'Volume'], axis = 1)\n",
    "data.head(2)"
   ]
  },
  {
   "cell_type": "code",
   "execution_count": null,
   "id": "ca3a5777",
   "metadata": {
    "ExecuteTime": {
     "end_time": "2021-10-17T13:57:06.364729Z",
     "start_time": "2021-10-17T13:57:06.349769Z"
    }
   },
   "outputs": [],
   "source": [
    "#Definir o mode para 55 semanas\n",
    "semanas = 55\n",
    "treino = data.iloc[:-semanas,0:1].copy()\n",
    "teste = data.iloc[-semanas:,0:1].copy()"
   ]
  },
  {
   "cell_type": "code",
   "execution_count": null,
   "id": "b3858b1f",
   "metadata": {
    "ExecuteTime": {
     "end_time": "2021-10-17T13:57:06.506001Z",
     "start_time": "2021-10-17T13:57:06.365727Z"
    }
   },
   "outputs": [],
   "source": [
    "# Plotar o gráfico de Treino e Teste\n",
    "plt.figure(figsize=(18, 5))\n",
    "plt.title('Valor do Fechamento - Close')\n",
    "plt.plot(treino['Close'], color='b')\n",
    "plt.plot(teste['Close'], color='orange')\n",
    "plt.legend(['Treino', 'Teste'])\n",
    "plt.xlabel('Data')\n",
    "plt.ylabel('Valor')\n",
    "plt.show()"
   ]
  },
  {
   "cell_type": "markdown",
   "id": "5f777e6b",
   "metadata": {
    "ExecuteTime": {
     "end_time": "2021-10-17T11:25:51.934792Z",
     "start_time": "2021-10-17T11:25:51.923790Z"
    }
   },
   "source": [
    "A partir de agora só iremos usar a base de treino para fazer os estudos, a base de teste será somente usada para validar as previsões que iremos fazer.\n",
    "\n",
    "Toda série temporal pode ser decomposta em 3 partes: tendência, sazonalidade e resíduo, que é o que resta após retirar da série as duas primeiras partes, abaixo a separação dessas partes:"
   ]
  },
  {
   "cell_type": "code",
   "execution_count": null,
   "id": "f72454c9",
   "metadata": {
    "ExecuteTime": {
     "end_time": "2021-10-17T13:57:07.195910Z",
     "start_time": "2021-10-17T13:57:06.506959Z"
    }
   },
   "outputs": [],
   "source": [
    "import statsmodels.api as sm\n",
    "from statsmodels.graphics.tsaplots import plot_acf, plot_pacf\n",
    "from statsmodels.tsa.stattools import adfuller, kpss\n",
    "from statsmodels.tsa.seasonal import seasonal_decompose"
   ]
  },
  {
   "cell_type": "code",
   "execution_count": null,
   "id": "b22a7621",
   "metadata": {
    "ExecuteTime": {
     "end_time": "2021-10-17T13:57:07.691876Z",
     "start_time": "2021-10-17T13:57:07.195910Z"
    }
   },
   "outputs": [],
   "source": [
    "#gráfico semanal com ciclos que se repetem a cada 55 semanas \n",
    "season = seasonal_decompose(treino, freq=55)\n",
    "fig = season.plot();\n",
    "fig.set_size_inches(16,8)"
   ]
  },
  {
   "cell_type": "markdown",
   "id": "dbe99f1f",
   "metadata": {},
   "source": [
    "Claramente a série tem uma tendência de alta, com picos entre o final e inicio de anos e mínimas entre fevereiro e maio \n",
    "\n",
    "Porém é indicado utilizar testes estatísticos para confirmar se a séries é estacionária, vamos usar dois testes: o teste de Dickey Fuller e o teste KPSS.\n",
    "\n",
    "Primeiramente vamos usar o teste de Dickey Fuller, usarei o valor P base de 5%, ou seja, caso o valor P esteja abaixo desses 5% significa que a série é estatisticamente estacionária.\n",
    "\n",
    "Além disso, existe o Teste estatístico do modelo, onde estes valores podem ser comparados com os valores críticos de 1%, 5% e 10%, caso o teste estatístico esteja abaixo de algum valor critico escolhido a série será estacionária:"
   ]
  },
  {
   "cell_type": "code",
   "execution_count": null,
   "id": "11976c7d",
   "metadata": {
    "ExecuteTime": {
     "end_time": "2021-10-17T13:57:07.707799Z",
     "start_time": "2021-10-17T13:57:07.692840Z"
    }
   },
   "outputs": [],
   "source": [
    "#criando uma função para plotar o gráfico e mostrar o resultado do teste:\n",
    "def checar_estacionariedade(y, lags_plots=48, figsize=(22,8)):\n",
    "    \"Use Series como parâmetro\"\n",
    "    \n",
    "    # Criando plots do DF\n",
    "    y = pd.Series(y)\n",
    "    fig = plt.figure()\n",
    "\n",
    "    ax1 = plt.subplot2grid((3, 3), (0, 0), colspan=2)\n",
    "    ax2 = plt.subplot2grid((3, 3), (1, 0))\n",
    "    ax3 = plt.subplot2grid((3, 3), (1, 1))\n",
    "    ax4 = plt.subplot2grid((3, 3), (2, 0), colspan=2)\n",
    "\n",
    "    y.plot(ax=ax1, figsize=figsize, color='teal')\n",
    "    ax1.set_title('Série de Preços')\n",
    "    plot_acf(y, lags=lags_plots, zero=False, ax=ax2, color='teal');\n",
    "    plot_pacf(y, lags=lags_plots, zero=False, ax=ax3, method='ols', color='teal');\n",
    "    sns.distplot(y, bins=int(sqrt(len(y))), ax=ax4, color='teal')\n",
    "    ax4.set_title('Distribuição dos Preços')\n",
    "\n",
    "    plt.tight_layout()\n",
    "    \n",
    "    print('Resultados do teste de Dickey-Fuller:')\n",
    "    adfinput = adfuller(y)\n",
    "    adftest = pd.Series(adfinput[0:4], index=['Teste Statistico','Valor-P','Lags Usados','Números de Observações'])\n",
    "    adftest = round(adftest,4)\n",
    "    \n",
    "    for key, value in adfinput[4].items():\n",
    "        adftest[\"Valores Críticos (%s)\"%key] = value.round(4)\n",
    "        \n",
    "    print(adftest)"
   ]
  },
  {
   "cell_type": "code",
   "execution_count": null,
   "id": "2a526b3f",
   "metadata": {
    "ExecuteTime": {
     "end_time": "2021-10-17T13:57:08.329108Z",
     "start_time": "2021-10-17T13:57:07.708797Z"
    }
   },
   "outputs": [],
   "source": [
    "from math import sqrt\n",
    "checar_estacionariedade(treino['Close'], lags_plots=60)"
   ]
  },
  {
   "cell_type": "markdown",
   "id": "187d9b12",
   "metadata": {},
   "source": [
    "Neste caso o teste de Dickey Fuller indicou que a série não é estacionária (Valor P de 96% e o valor crítico de 5% é menor que o teste estatístico)\n",
    "\n",
    "Agora vamos analisar a série com o teste KPSS, ao contrário do teste de Dickey Fuller, o teste KPSS já pressupõe que a série é estacionária e só não será se o valor P for inferior a 5% ou o teste estatístico for menor que algum valor crítico escolhido:"
   ]
  },
  {
   "cell_type": "code",
   "execution_count": null,
   "id": "5e18d7bf",
   "metadata": {
    "ExecuteTime": {
     "end_time": "2021-10-17T13:57:08.836365Z",
     "start_time": "2021-10-17T13:57:08.329108Z"
    }
   },
   "outputs": [],
   "source": [
    "checar_estacionariedade(treino['Close'].diff().diff().dropna(), lags_plots=60)"
   ]
  },
  {
   "cell_type": "markdown",
   "id": "cf570dc8",
   "metadata": {},
   "source": [
    "Confirmando o teste de Dickey Fuller, o teste KPSS também mostra que a série não é estacionária, pois o valor P está em 0% e o teste estatístico está acima de qualquer valor crítico."
   ]
  },
  {
   "cell_type": "markdown",
   "id": "d1733644",
   "metadata": {},
   "source": [
    "# Criando o Modelo\n",
    "\n",
    "Inicialmente o modelo será criado com base nos dados de treino, assim, os coeficientes para os 3 lags auto correlacionados serão gerados e servirão para testar a extrapolação de 5 dias consecutivos na base de testes.\n",
    "\n",
    "Existem diversas maneiras de se fazer extrapolações para o futuro, as principais são:\n",
    "\n",
    " * Criar um modelo para cada dia a ser previsto e agregar tudo posteriormente,\n",
    " * Recursivo, prevendo o primeiro dia e usar essa previsão como base para prever o próximo dia.\n",
    " \n",
    "Usaremos o último modelo neste exemplo, neste caso iremos prever os próximos 5 dias, comparar com dados reais, adicionar estes últimos novamente na base para fazer uma nova extrapolação, posteriormente iremos calcular o erro do modelo e analisar fatos relevantes da previsão."
   ]
  },
  {
   "cell_type": "code",
   "execution_count": null,
   "id": "058cc625",
   "metadata": {
    "ExecuteTime": {
     "end_time": "2021-10-17T13:57:08.979421Z",
     "start_time": "2021-10-17T13:57:08.837362Z"
    }
   },
   "outputs": [],
   "source": [
    "# Treinando o modelo\n",
    "from statsmodels.tsa.arima_model import ARIMA\n",
    "modelo = ARIMA(treino, order=(3, 1, 0)).fit()\n",
    "pred_treino = modelo.predict()"
   ]
  },
  {
   "cell_type": "code",
   "execution_count": null,
   "id": "8caab084",
   "metadata": {
    "ExecuteTime": {
     "end_time": "2021-10-17T13:57:08.995356Z",
     "start_time": "2021-10-17T13:57:08.980414Z"
    }
   },
   "outputs": [],
   "source": [
    "# Base de previsão com diferenciação\n",
    "pred_treino[:5]"
   ]
  },
  {
   "cell_type": "code",
   "execution_count": null,
   "id": "0e54131d",
   "metadata": {
    "ExecuteTime": {
     "end_time": "2021-10-17T13:57:09.011313Z",
     "start_time": "2021-10-17T13:57:08.997351Z"
    }
   },
   "outputs": [],
   "source": [
    "# Voltando para a base de preços \n",
    "pred_treino[0] += treino.iloc[0,0]\n",
    "pred_treino = np.cumsum(pred_treino)\n",
    "pred_treino.head()"
   ]
  },
  {
   "cell_type": "code",
   "execution_count": null,
   "id": "bab61136",
   "metadata": {
    "ExecuteTime": {
     "end_time": "2021-10-17T13:57:09.027271Z",
     "start_time": "2021-10-17T13:57:09.012311Z"
    }
   },
   "outputs": [],
   "source": [
    "treino['Pred Close'] = pred_treino\n",
    "treino.dropna(inplace=True)\n",
    "treino.head()"
   ]
  },
  {
   "cell_type": "code",
   "execution_count": null,
   "id": "b3f44b8f",
   "metadata": {
    "ExecuteTime": {
     "end_time": "2021-10-17T13:57:09.200993Z",
     "start_time": "2021-10-17T13:57:09.028268Z"
    }
   },
   "outputs": [],
   "source": [
    "# Plotando o gráfico\n",
    "treino.plot(figsize=(18,6), \n",
    "            title='Fechamento (Close) - Real vs Previsto na base de Treino',\n",
    "           color=['Teal','orangered'])\n",
    "plt.ylabel('Preço')\n",
    "plt.show()"
   ]
  },
  {
   "cell_type": "code",
   "execution_count": null,
   "id": "c045f8b4",
   "metadata": {
    "ExecuteTime": {
     "end_time": "2021-10-17T13:57:09.343410Z",
     "start_time": "2021-10-17T13:57:09.201998Z"
    }
   },
   "outputs": [],
   "source": [
    "#Medindo o erro do treino pela métrica Root Mean Squared Error\n",
    "from sklearn.metrics import mean_squared_error\n",
    "erro = sqrt(mean_squared_error(treino['Close'], treino['Pred Close']))\n",
    "print(f'O RMSE foi de R$ {round(erro,4)}/sc')"
   ]
  },
  {
   "cell_type": "markdown",
   "id": "eb0c3bac",
   "metadata": {},
   "source": [
    "#### Obtendo os Coeficientes\n",
    "\n",
    "Após treinar o modelo, podemos obter os coeficientes de multiplicação dos lags junto com o valor da constante, esses valores servirão como base para extrapolarmos as previsões para os próximos 5 dias."
   ]
  },
  {
   "cell_type": "code",
   "execution_count": null,
   "id": "4b2a4d0b",
   "metadata": {
    "ExecuteTime": {
     "end_time": "2021-10-17T13:57:09.358373Z",
     "start_time": "2021-10-17T13:57:09.344445Z"
    }
   },
   "outputs": [],
   "source": [
    "# Pegando os coeficientes de múltiplicação dos lags para usar na base de testes:\n",
    "const, l1, l2, l3 = modelo.params\n",
    "\n",
    "print(f'Valor da constante {round(const,4)}')\n",
    "print(f'Coeficientes do Lag 1: {round(l1,4)}, Lag 2: {round(l2,4)} e Lag 3: {round(l3,4)}')"
   ]
  },
  {
   "cell_type": "markdown",
   "id": "01ea31c2",
   "metadata": {},
   "source": [
    "O próximo passo é criar uma função para fazer as previsões, usarei todas as bases com diferenciação, criarei a previsão para 5 períodos adiante e atualizarei os dados reais com mais 5 dias e assim sucessivamente até finalizarem os dados de teste."
   ]
  },
  {
   "cell_type": "code",
   "execution_count": null,
   "id": "29a97408",
   "metadata": {
    "ExecuteTime": {
     "end_time": "2021-10-17T13:57:09.374328Z",
     "start_time": "2021-10-17T13:57:09.359316Z"
    }
   },
   "outputs": [],
   "source": [
    "def prever_n_per(treino, teste, passos):\n",
    "    \n",
    "    # Adicionando a série com diferenciação para projetar previsões\n",
    "    diff_treino = treino.diff().dropna().values\n",
    "    hist = [x for x in diff_treino]\n",
    "\n",
    "    diff_teste = teste.diff().dropna().values\n",
    "    diff_teste = [x for x in diff_teste]\n",
    "\n",
    "    # Adicionando primeira diferenciação no teste que ficou entre o treino e teste\n",
    "    prim_diff = teste[0] - treino[-1]\n",
    "    diff_teste.insert(0, prim_diff)\n",
    "    \n",
    "    prev = []\n",
    "\n",
    "    for i in range(0,len(teste),passos):\n",
    "        for j in range(passos):\n",
    "    \n",
    "            yhat = const + (l1 * hist[-1]) + (l2 * hist[-2]) + (l3 * hist[-3])\n",
    "            prev.append(yhat)\n",
    "            # usando a previsão atual como base para novas previsões\n",
    "            hist.append(yhat)\n",
    "        obs = diff_teste[i:i+passos]\n",
    "        hist = list(np.append(hist,obs))\n",
    "    return prev"
   ]
  },
  {
   "cell_type": "code",
   "execution_count": null,
   "id": "9cadc23a",
   "metadata": {
    "ExecuteTime": {
     "end_time": "2021-10-17T13:57:09.390378Z",
     "start_time": "2021-10-17T13:57:09.375276Z"
    }
   },
   "outputs": [],
   "source": [
    "# Testando a função\n",
    "steps = 5\n",
    "prev = prever_n_per(treino['Close'], teste['Close'], passos=steps)\n",
    "print('Previsões antes de reverter os preços: ')\n",
    "print(prev[:5])"
   ]
  },
  {
   "cell_type": "markdown",
   "id": "351ae626",
   "metadata": {
    "ExecuteTime": {
     "end_time": "2021-10-17T11:37:21.673559Z",
     "start_time": "2021-10-17T11:37:21.666578Z"
    }
   },
   "source": [
    "Do mesmo jeito que criamos a função para prever os preços com 5 dias de extrapolação, iremos criar a função abaixo para transformar os preços previstos para a base comparável com os preços reais da base de teste."
   ]
  },
  {
   "cell_type": "code",
   "execution_count": null,
   "id": "a29d1d91",
   "metadata": {
    "ExecuteTime": {
     "end_time": "2021-10-17T13:57:09.406338Z",
     "start_time": "2021-10-17T13:57:09.391379Z"
    }
   },
   "outputs": [],
   "source": [
    "def inverter_diff(treino, teste, previsão, passos):\n",
    "    '''\n",
    "    Usando o último dia da base de treino, após isso, usa o último valor previsto como base sucessivamente.\n",
    "    \n",
    "    A cada passo, volta a usar o primeiro valor da base de teste que se tornou real.\n",
    "    '''\n",
    "    treino = [x for x in treino]\n",
    "    teste = [x for x in teste]\n",
    "    prev_inv = []\n",
    "    \n",
    "    for i in range(0,len(teste), passos): \n",
    "        inverter = previsão[i] + treino[-1]\n",
    "        prev_inv.append(inverter)\n",
    "        \n",
    "        for j in range(passos-1):\n",
    "            inverter += previsão[i+j+1]\n",
    "            prev_inv.append(inverter)\n",
    "        treino = np.append(treino, teste[i:i+passos])\n",
    "    return prev_inv"
   ]
  },
  {
   "cell_type": "code",
   "execution_count": null,
   "id": "8ed406a5",
   "metadata": {
    "ExecuteTime": {
     "end_time": "2021-10-17T13:57:09.422331Z",
     "start_time": "2021-10-17T13:57:09.407335Z"
    }
   },
   "outputs": [],
   "source": [
    "# Adicionando a previsão na base de testes para comparar posteriormente\n",
    "teste['Previsão 5D'] = inverter_diff(treino['Close'],\n",
    "                                     teste['Close'],\n",
    "                                     prev, passos=steps)"
   ]
  },
  {
   "cell_type": "code",
   "execution_count": null,
   "id": "cb99cc02",
   "metadata": {
    "ExecuteTime": {
     "end_time": "2021-10-17T13:57:09.438253Z",
     "start_time": "2021-10-17T13:57:09.423293Z"
    }
   },
   "outputs": [],
   "source": [
    "def plotar_comparativo(orig, prev, passos, titulo='', figsize=(18,8)):\n",
    "    plt.figure(figsize=figsize)\n",
    "    \n",
    "    orig = np.array(orig)\n",
    "    prev = np.array(prev)\n",
    "    plt.plot(orig, label='Real', color='teal')\n",
    "    \n",
    "    for i in range(0,len(orig), passos):\n",
    "        eixo_x = [x for x in range(i,i+passos)]\n",
    "        plt.plot(eixo_x, prev[i:i+passos], color='orangered')\n",
    "    \n",
    "    plt.title(titulo)\n",
    "    plt.ylabel('Preços')\n",
    "    plt.show()"
   ]
  },
  {
   "cell_type": "code",
   "execution_count": null,
   "id": "f0b89ca1",
   "metadata": {
    "ExecuteTime": {
     "end_time": "2021-10-17T13:57:09.564166Z",
     "start_time": "2021-10-17T13:57:09.439288Z"
    }
   },
   "outputs": [],
   "source": [
    "plotar_comparativo(teste['Close'], teste['Previsão 5D'], passos=steps, \n",
    "                   titulo='Comparativo do Fechamento - Valor Real x Previsto (Extrapolando 5 dias)')"
   ]
  },
  {
   "cell_type": "code",
   "execution_count": null,
   "id": "1aa78851",
   "metadata": {
    "ExecuteTime": {
     "end_time": "2021-10-17T13:57:09.579902Z",
     "start_time": "2021-10-17T13:57:09.565163Z"
    }
   },
   "outputs": [],
   "source": [
    "erro_teste = sqrt(mean_squared_error(teste['Close'], teste['Previsão 5D']))\n",
    "print(f'O RMSE da base de testes foi de R$ {round(erro_teste,4)}/sc')"
   ]
  },
  {
   "cell_type": "markdown",
   "id": "77ba8456",
   "metadata": {},
   "source": [
    "Avaliando o gráfico acima, nota-se que a principal característica desse tipo de previsão é que ele segue a tendência mais recente que está sendo negociada, porém ainda há espaço para melhoras, o modelo não é capaz de prever possíveis mudanças de tendências.\n",
    "\n",
    "No próximo vai ser analisar o erro (previsto - real), pois neste tipo de análise pode-se obter informações para melhorar o modelo."
   ]
  },
  {
   "cell_type": "markdown",
   "id": "1243209a",
   "metadata": {},
   "source": [
    "#### Analisando o Erro\n",
    "\n",
    "Para analisar o erro criarei uma função semelhante às anteriores, irão ser analisados os valores médios de cada um dos 5 passos, normalmente a tendência é que o erro, neste caso o RMSE, aumente de acordo com os períodos que vão se expandindo devido às incertezas, veremos abaixo:"
   ]
  },
  {
   "cell_type": "code",
   "execution_count": null,
   "id": "90ddb491",
   "metadata": {
    "ExecuteTime": {
     "end_time": "2021-10-17T13:57:09.595955Z",
     "start_time": "2021-10-17T13:57:09.580900Z"
    }
   },
   "outputs": [],
   "source": [
    "def erro_n_passos(orig, prev, passos, plot=True):\n",
    "    # Calculando o RMSE de cada linha\n",
    "    erro = ((np.array(orig) - np.array(prev))**2)**(1/2)\n",
    "    # Mudando o formato para ficar: (erros/exemplos, passos)\n",
    "    erro = erro.reshape(int(len(erro)/passos), passos)\n",
    "    \n",
    "    # Fazendo a média do erro para cada passo\n",
    "    media = erro.mean(axis=0)\n",
    "    \n",
    "    # Plotando o gráfico de erro\n",
    "    if plot:\n",
    "        indice = np.arange(0,passos)\n",
    "        plt.figure(figsize=(12,4))\n",
    "        plt.plot(media, 'o-', color='teal', markersize=8)\n",
    "        plt.title('Erro Médio para Cada Passo', fontsize=15)\n",
    "        plt.xlabel('Passos', fontsize=15)\n",
    "        plt.ylabel('Erro', fontsize=15)\n",
    "        for x,y in zip(indice, media):\n",
    "            label = \"{:.4f}\".format(y)\n",
    "            plt.annotate(label, (x, y), xytext=(x-0.1, y+.075), fontsize=12)\n",
    "        plt.xticks(np.arange(passos), [x for x in range(1,passos+1)])\n",
    "        plt.yticks([x for x in np.linspace(min(media)-0.2, max(media)+0.2, 10)])\n",
    "        plt.grid(axis='y')\n",
    "        plt.show()\n",
    "    print(f'O RMSE para cada passo ficou assim: \\n{media}')"
   ]
  },
  {
   "cell_type": "code",
   "execution_count": null,
   "id": "1a7b386b",
   "metadata": {
    "ExecuteTime": {
     "end_time": "2021-10-17T13:57:09.706030Z",
     "start_time": "2021-10-17T13:57:09.597913Z"
    }
   },
   "outputs": [],
   "source": [
    "erro_passo = erro_n_passos(teste['Close'], teste['Previsão 5D'], steps)\n",
    "erro_passo"
   ]
  },
  {
   "cell_type": "code",
   "execution_count": null,
   "id": "dbd3e002",
   "metadata": {
    "ExecuteTime": {
     "end_time": "2021-10-17T13:57:09.943811Z",
     "start_time": "2021-10-17T13:57:09.707159Z"
    }
   },
   "outputs": [],
   "source": [
    "plt.figure(figsize=(20,5))\n",
    "\n",
    "sns.lineplot(data=teste['Close'],linewidth = 1.5 , label = 'Fechamento (Close) ')\n",
    "sns.lineplot(data=teste['Previsão 5D'],linewidth = 1.5 , label = 'Previsão 5 dias')\n",
    "\n",
    "\n",
    "plt.show()"
   ]
  },
  {
   "cell_type": "code",
   "execution_count": null,
   "id": "9be49334",
   "metadata": {
    "ExecuteTime": {
     "end_time": "2021-10-17T13:57:09.958778Z",
     "start_time": "2021-10-17T13:57:09.946850Z"
    }
   },
   "outputs": [],
   "source": [
    "#Criação média diária e média de 3 dias na previsão \n",
    "teste['Media'] = teste.Close.rolling(1, min_periods=1).mean()\n",
    "teste['M3'] = teste[\"Previsão 5D\"].rolling(3, min_periods=3).mean()"
   ]
  },
  {
   "cell_type": "code",
   "execution_count": null,
   "id": "e703e7e6",
   "metadata": {
    "ExecuteTime": {
     "end_time": "2021-10-17T13:57:09.974739Z",
     "start_time": "2021-10-17T13:57:09.959782Z"
    }
   },
   "outputs": [],
   "source": [
    "#Criação da coluna SINAL com o cruzamento da Média diária com a Média de 5 dias\n",
    "\n",
    "teste['sinal'] = np.where(teste['Media']>teste['M3'],1,0)\n",
    "teste.head(2)"
   ]
  },
  {
   "cell_type": "code",
   "execution_count": null,
   "id": "7553a5a3",
   "metadata": {
    "ExecuteTime": {
     "end_time": "2021-10-17T13:57:09.990692Z",
     "start_time": "2021-10-17T13:57:09.975732Z"
    }
   },
   "outputs": [],
   "source": [
    "teste['pos'] = teste['sinal'].diff()\n",
    "teste.head(3)"
   ]
  },
  {
   "cell_type": "code",
   "execution_count": null,
   "id": "0d43bc7c",
   "metadata": {
    "ExecuteTime": {
     "end_time": "2021-10-17T13:57:10.574609Z",
     "start_time": "2021-10-17T13:57:09.991689Z"
    }
   },
   "outputs": [],
   "source": [
    "data1 = yf.Ticker(\"ADA-USD\")\n",
    "data1 = data1.history(start=\"2019-01-01\", end=\"2021-09-30\", interval=\"1d\", prepost=bool,\n",
    "                      actions=False, threads=True, auto_adjust=True, back_adjust=True, rounding=True)\n",
    "data1.head(2)\n",
    "\n",
    "data1 = data1.loc['2021-08-01':'2021-10-1',:]\n"
   ]
  },
  {
   "cell_type": "code",
   "execution_count": null,
   "id": "9903351c",
   "metadata": {
    "ExecuteTime": {
     "end_time": "2021-10-17T13:57:10.859238Z",
     "start_time": "2021-10-17T13:57:10.574609Z"
    }
   },
   "outputs": [],
   "source": [
    "plt.figure(figsize = (20,8))\n",
    "teste['Previsão 5D'].plot(color = 'y',linestyle='-',alpha=1, label = 'Previsão 5D')\n",
    "\n",
    "data1['Open'].plot(color = 'k', label = 'Fechamento (Close)')\n",
    "\n",
    "\n",
    "plt.plot(teste[teste['pos']== 1].index,\n",
    "         teste['Previsão 5D'][teste['pos']== 1],\n",
    "         '^', markersize = 11, color = 'g', label = 'Indicação - Compra')\n",
    "\n",
    "plt.plot(teste[teste['pos']== -1].index,\n",
    "         teste['Previsão 5D'][teste['pos']== -1],\n",
    "         'v', markersize = 11, color = 'r', label = 'Indicação - Venda')\n",
    "\n",
    "plt.plot(teste[teste['pos']== 1].index,\n",
    "         teste['Previsão 5D'][teste['pos']== 1],\n",
    "         'o', markerfacecolor=\"g\", markersize = 21, color='r', alpha=0.1)\n",
    "\n",
    "plt.plot(teste[teste['pos']== -1].index,\n",
    "         teste['Previsão 5D'][teste['pos']== -1],\n",
    "         'o', markerfacecolor=\"r\", markersize = 21, color='r', alpha=0.1)\n",
    "\n",
    "plt.ylabel('Valor')\n",
    "plt.xlabel(\"Período\")\n",
    "plt.title('Predição com sinal de Compra e Venda')\n",
    "plt.legend()\n",
    "plt.grid()\n",
    "plt.show()\n"
   ]
  }
 ],
 "metadata": {
  "kernelspec": {
   "display_name": "Python 3",
   "language": "python",
   "name": "python3"
  },
  "language_info": {
   "codemirror_mode": {
    "name": "ipython",
    "version": 3
   },
   "file_extension": ".py",
   "mimetype": "text/x-python",
   "name": "python",
   "nbconvert_exporter": "python",
   "pygments_lexer": "ipython3",
   "version": "3.8.8"
  }
 },
 "nbformat": 4,
 "nbformat_minor": 5
}
